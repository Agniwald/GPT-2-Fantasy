{
  "nbformat": 4,
  "nbformat_minor": 0,
  "metadata": {
    "colab": {
      "provenance": []
    },
    "kernelspec": {
      "name": "python3",
      "display_name": "Python 3"
    },
    "language_info": {
      "name": "python"
    }
  },
  "cells": [
    {
      "cell_type": "code",
      "execution_count": null,
      "metadata": {
        "colab": {
          "base_uri": "https://localhost:8080/"
        },
        "id": "ZwSJ_q5wvMbg",
        "outputId": "8a8d585c-9108-4d71-dc58-2e2c1edc6370"
      },
      "outputs": [
        {
          "output_type": "stream",
          "name": "stdout",
          "text": [
            "Drive already mounted at /content/drive; to attempt to forcibly remount, call drive.mount(\"/content/drive\", force_remount=True).\n"
          ]
        }
      ],
      "source": [
        "from google.colab import drive\n",
        "drive.mount('/content/drive')"
      ]
    },
    {
      "cell_type": "code",
      "source": [
        "import pandas as pd\n",
        "import requests\n",
        "from bs4 import BeautifulSoup\n",
        "import time"
      ],
      "metadata": {
        "id": "UHX6-NXlvRme"
      },
      "execution_count": null,
      "outputs": []
    },
    {
      "cell_type": "code",
      "source": [
        "requests.packages.urllib3.disable_warnings(\n",
        "    requests.packages.urllib3.exceptions.InsecureRequestWarning)"
      ],
      "metadata": {
        "id": "RosCy_WX1qis"
      },
      "execution_count": null,
      "outputs": []
    },
    {
      "cell_type": "code",
      "source": [
        "df = pd.read_csv('https://datasets.imdbws.com/title.basics.tsv.gz', sep='\\t')"
      ],
      "metadata": {
        "id": "mNRLInjEvWIk"
      },
      "execution_count": null,
      "outputs": []
    },
    {
      "cell_type": "code",
      "source": [
        "f_df = df.loc[df['genres'].str.contains('Fantasy', na=False)]"
      ],
      "metadata": {
        "id": "72CxaJ0pvX3Q"
      },
      "execution_count": null,
      "outputs": []
    },
    {
      "cell_type": "code",
      "source": [
        "def check_genres(example):\n",
        "    includes = ['Fantasy']\n",
        "    excludes = ['Adult', 'Documentary', 'Talk-Show', 'Sport', 'Game-Show', 'Musical', 'Music', 'News', 'Reality-TV', 'Family']\n",
        "\n",
        "    try:\n",
        "        if any([x in example for x in includes]) and all([x not in example for x in excludes]):\n",
        "            print(example)\n",
        "            return True\n",
        "    except:\n",
        "        pass\n",
        "\n",
        "    return False"
      ],
      "metadata": {
        "id": "pZZEOMdXvaUQ"
      },
      "execution_count": null,
      "outputs": []
    },
    {
      "cell_type": "code",
      "source": [
        "fin_df = df.loc[df['genres'].apply(check_genres)]"
      ],
      "metadata": {
        "id": "Eq26gfuuvsIl"
      },
      "execution_count": null,
      "outputs": []
    },
    {
      "cell_type": "code",
      "source": [
        "fin_df.to_pickle('/content/drive/MyDrive/AI/150k_with_excludes')"
      ],
      "metadata": {
        "id": "MAS1Tc-Yvs1-"
      },
      "execution_count": null,
      "outputs": []
    },
    {
      "cell_type": "code",
      "source": [
        "fin_df = pd.read_pickle('/content/drive/MyDrive/AI/150k_with_excludes')"
      ],
      "metadata": {
        "id": "vQtoJI040Mbi"
      },
      "execution_count": null,
      "outputs": []
    },
    {
      "cell_type": "code",
      "source": [
        "plot_url = \"https://www.imdb.com/title/{}/plotsummary/\"\n",
        "summaries_class = \"ipc-metadata-list__item\"\n",
        "\n",
        "keywords_url = \"https://www.imdb.com/title/{}/keywords\"\n",
        "tag_class = \"soda sodavote\"\n",
        "\n",
        "headers = [{'User-Agent': 'Mozilla/5.0 (Windows NT 10.0; Win64; x64) AppleWebKit/537.36 (KHTML, like Gecko) Chrome/58.0.3029.110 Safari/537.36'},\n",
        "           {'User-Agent': 'Mozilla/5.0 (Macintosh; Intel Mac OS X 10_14_6) AppleWebKit/605.1.15 (KHTML, like Gecko) Version/13.1 Safari/605.1.15'},\n",
        "           {'User-Agent': 'Mozilla/5.0 (Windows NT 10.0; Win64; x64) AppleWebKit/537.36 (KHTML, like Gecko) Chrome/102.0.0.0 Safari/537.36'}]"
      ],
      "metadata": {
        "id": "l_yutk_Yxy8k"
      },
      "execution_count": null,
      "outputs": []
    },
    {
      "cell_type": "code",
      "source": [
        "def clean(input_text):\n",
        "    input_text = input_text.replace('\\n', ' ')\n",
        "    return input_text.replace('\\t', '')"
      ],
      "metadata": {
        "id": "oV1RaSczwdgf"
      },
      "execution_count": null,
      "outputs": []
    },
    {
      "cell_type": "code",
      "source": [
        "def get_summaries(imdb_id):\n",
        "    # Send a GET request to the URL\n",
        "    response = requests.get(plot_url.format(imdb_id), headers=headers[1], verify=False)\n",
        "\n",
        "    # Create a BeautifulSoup object from the HTML content\n",
        "    soup = BeautifulSoup(response.content, 'html.parser')\n",
        "\n",
        "    elements = soup.find_all(class_=summaries_class)[:-2] # trunicate service elements\n",
        "\n",
        "    clean_elements = []\n",
        "    for el in elements:\n",
        "\n",
        "        try:\n",
        "            el.find(\"span\").decompose() # remove author tag from summary if exists\n",
        "        except AttributeError:\n",
        "            pass\n",
        "\n",
        "        clean_elements.append(el.get_text())\n",
        "\n",
        "    return clean_elements"
      ],
      "metadata": {
        "id": "H4qTnNSRxnls"
      },
      "execution_count": null,
      "outputs": []
    },
    {
      "cell_type": "code",
      "source": [
        "def filter_tag(tag):\n",
        "    tag_name = tag['data-item-keyword']\n",
        "    relevant_text = tag.find(class_=\"interesting-count-text\").text.strip()\n",
        "    stop_words = ['sex', 'nudity', 'erotic', 'male', 'female', 'f word']\n",
        "\n",
        "    if any(stop_word in tag_name for stop_word in stop_words):\n",
        "        return False\n",
        "\n",
        "    if relevant_text.startswith(\"0\") or relevant_text == \"Is this relevant?\":\n",
        "        return False\n",
        "\n",
        "    return tag_name"
      ],
      "metadata": {
        "id": "uXZ5WeTryJCe"
      },
      "execution_count": null,
      "outputs": []
    },
    {
      "cell_type": "code",
      "source": [
        "def get_tags(imdb_id):\n",
        "    response = requests.get(keywords_url.format(imdb_id), headers=headers[1], verify=False)\n",
        "    soup = BeautifulSoup(response.content, 'html.parser')\n",
        "    elements = soup.find_all(class_=tag_class)\n",
        "\n",
        "    filtered_tags = []\n",
        "\n",
        "    for tag in elements:\n",
        "        if a:=filter_tag(tag):\n",
        "            filtered_tags.append(a)\n",
        "\n",
        "    return filtered_tags"
      ],
      "metadata": {
        "id": "a_zk-p22yMS3"
      },
      "execution_count": null,
      "outputs": []
    },
    {
      "cell_type": "code",
      "source": [
        "def add_to_tsv(imdb_id):\n",
        "    tags = get_tags(imdb_id)\n",
        "    time.sleep(0.25) # avoid spamming imdb servers\n",
        "    summs = get_summaries(imdb_id)\n",
        "\n",
        "    if len(tags) == 0 or len(summs) == 0:\n",
        "        return False\n",
        "\n",
        "    str_tags = \" | \".join(tags)\n",
        "\n",
        "    for summ in summs:\n",
        "        with open(\"key_and_plot.tsv\", \"a\", encoding=\"utf-8\") as kp_file:\n",
        "            kp_file.write(f\"{imdb_id}\\t{str_tags}\\t{clean(summ)}\\n\")\n",
        "\n",
        "    return len(summs)"
      ],
      "metadata": {
        "id": "RIIW2Dt3yQFQ"
      },
      "execution_count": null,
      "outputs": []
    },
    {
      "cell_type": "code",
      "source": [
        "count_n = 0\n",
        "\n",
        "while True:\n",
        "    try:\n",
        "        for index, row in fin_df[count_n:].iterrows():\n",
        "            imdb_id = row[\"tconst\"]\n",
        "\n",
        "            if l:=add_to_tsv(imdb_id):\n",
        "                print(count_n, f\"added {l} summs\", imdb_id)\n",
        "            else:\n",
        "                print(count_n, \"no plots or no keywords for\", imdb_id)\n",
        "            count_n += 1\n",
        "            time.sleep(0.25)\n",
        "    except:\n",
        "        pass"
      ],
      "metadata": {
        "id": "Lbe0cyqrxr03"
      },
      "execution_count": null,
      "outputs": []
    }
  ]
}