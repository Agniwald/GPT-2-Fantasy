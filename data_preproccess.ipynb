{
  "cells": [
    {
      "cell_type": "code",
      "execution_count": null,
      "metadata": {
        "colab": {
          "base_uri": "https://localhost:8080/"
        },
        "id": "fYHCHtSFV-cq",
        "outputId": "019b63b3-f23c-454a-d62c-8288c65bfa73"
      },
      "outputs": [
        {
          "output_type": "stream",
          "name": "stdout",
          "text": [
            "Mounted at /content/drive\n"
          ]
        }
      ],
      "source": [
        "import pandas as pd\n",
        "from google.colab import drive\n",
        "drive.mount('/content/drive')"
      ]
    },
    {
      "cell_type": "code",
      "execution_count": null,
      "metadata": {
        "id": "aWXwCDZ_Gt6k"
      },
      "outputs": [],
      "source": [
        "plot_df = pd.read_csv(\"/content/drive/MyDrive/AI/key_and_plot2.tsv\", sep='\\t', header=None)"
      ]
    },
    {
      "cell_type": "code",
      "execution_count": null,
      "metadata": {
        "id": "_y96OCKfG2eV"
      },
      "outputs": [],
      "source": [
        "plot_df.columns = ['imdb_id', 'tags', 'plot']"
      ]
    },
    {
      "cell_type": "code",
      "execution_count": null,
      "metadata": {
        "id": "yr9myCAXBFju"
      },
      "outputs": [],
      "source": [
        "def list_tag(tag_str):\n",
        "    return tag_str.split(\" | \")"
      ]
    },
    {
      "cell_type": "code",
      "execution_count": null,
      "metadata": {
        "id": "QuTanAWkBOOv"
      },
      "outputs": [],
      "source": [
        "plot_df['tags'] = plot_df['tags'].apply(list_tag)"
      ]
    },
    {
      "cell_type": "code",
      "execution_count": null,
      "metadata": {
        "colab": {
          "base_uri": "https://localhost:8080/",
          "height": 423
        },
        "id": "310tcCwUBVYu",
        "outputId": "8ad2ffb7-78b7-4dc1-ea67-ee3f0468ab36"
      },
      "outputs": [
        {
          "output_type": "execute_result",
          "data": {
            "text/plain": [
              "        imdb_id                                               tags  \\\n",
              "0     tt0001223  [monster, frankenstein's monster, mirror, alch...   \n",
              "1     tt0001223  [monster, frankenstein's monster, mirror, alch...   \n",
              "2     tt0001223  [monster, frankenstein's monster, mirror, alch...   \n",
              "3     tt0001223  [monster, frankenstein's monster, mirror, alch...   \n",
              "4     tt0001223  [monster, frankenstein's monster, mirror, alch...   \n",
              "...         ...                                                ...   \n",
              "6536  tt9812474  [parenthood, psychodrama, human animal hybrid,...   \n",
              "6537  tt9844322                                   [snow adventure]   \n",
              "6538  tt9900092  [witch, sorceress, magic, supernatural killer,...   \n",
              "6539  tt9910948                                          [pokemon]   \n",
              "6540  tt9913602                                             [snow]   \n",
              "\n",
              "                                                   plot  \n",
              "0     The first filmed version of Frankenstein. The ...  \n",
              "1     Frankenstein, a young medical student, trying ...  \n",
              "2     Frankenstein, a young student, is seen bidding...  \n",
              "3     Frankenstein, a young medical student, tries t...  \n",
              "4     The film starts with the intro page and a mess...  \n",
              "...                                                 ...  \n",
              "6536  Haunted by the indelible mark of loss and sile...  \n",
              "6537  The sequel on the big screen to the cult serie...  \n",
              "6538  A trio of witches are trained to become powerf...  \n",
              "6539  A story of young adults who are on a quest to ...  \n",
              "6540  A thick layer of fresh snow provides loads of ...  \n",
              "\n",
              "[6541 rows x 3 columns]"
            ],
            "text/html": [
              "\n",
              "  <div id=\"df-8bc85b3a-d925-469e-b706-f9dde46646dd\">\n",
              "    <div class=\"colab-df-container\">\n",
              "      <div>\n",
              "<style scoped>\n",
              "    .dataframe tbody tr th:only-of-type {\n",
              "        vertical-align: middle;\n",
              "    }\n",
              "\n",
              "    .dataframe tbody tr th {\n",
              "        vertical-align: top;\n",
              "    }\n",
              "\n",
              "    .dataframe thead th {\n",
              "        text-align: right;\n",
              "    }\n",
              "</style>\n",
              "<table border=\"1\" class=\"dataframe\">\n",
              "  <thead>\n",
              "    <tr style=\"text-align: right;\">\n",
              "      <th></th>\n",
              "      <th>imdb_id</th>\n",
              "      <th>tags</th>\n",
              "      <th>plot</th>\n",
              "    </tr>\n",
              "  </thead>\n",
              "  <tbody>\n",
              "    <tr>\n",
              "      <th>0</th>\n",
              "      <td>tt0001223</td>\n",
              "      <td>[monster, frankenstein's monster, mirror, alch...</td>\n",
              "      <td>The first filmed version of Frankenstein. The ...</td>\n",
              "    </tr>\n",
              "    <tr>\n",
              "      <th>1</th>\n",
              "      <td>tt0001223</td>\n",
              "      <td>[monster, frankenstein's monster, mirror, alch...</td>\n",
              "      <td>Frankenstein, a young medical student, trying ...</td>\n",
              "    </tr>\n",
              "    <tr>\n",
              "      <th>2</th>\n",
              "      <td>tt0001223</td>\n",
              "      <td>[monster, frankenstein's monster, mirror, alch...</td>\n",
              "      <td>Frankenstein, a young student, is seen bidding...</td>\n",
              "    </tr>\n",
              "    <tr>\n",
              "      <th>3</th>\n",
              "      <td>tt0001223</td>\n",
              "      <td>[monster, frankenstein's monster, mirror, alch...</td>\n",
              "      <td>Frankenstein, a young medical student, tries t...</td>\n",
              "    </tr>\n",
              "    <tr>\n",
              "      <th>4</th>\n",
              "      <td>tt0001223</td>\n",
              "      <td>[monster, frankenstein's monster, mirror, alch...</td>\n",
              "      <td>The film starts with the intro page and a mess...</td>\n",
              "    </tr>\n",
              "    <tr>\n",
              "      <th>...</th>\n",
              "      <td>...</td>\n",
              "      <td>...</td>\n",
              "      <td>...</td>\n",
              "    </tr>\n",
              "    <tr>\n",
              "      <th>6536</th>\n",
              "      <td>tt9812474</td>\n",
              "      <td>[parenthood, psychodrama, human animal hybrid,...</td>\n",
              "      <td>Haunted by the indelible mark of loss and sile...</td>\n",
              "    </tr>\n",
              "    <tr>\n",
              "      <th>6537</th>\n",
              "      <td>tt9844322</td>\n",
              "      <td>[snow adventure]</td>\n",
              "      <td>The sequel on the big screen to the cult serie...</td>\n",
              "    </tr>\n",
              "    <tr>\n",
              "      <th>6538</th>\n",
              "      <td>tt9900092</td>\n",
              "      <td>[witch, sorceress, magic, supernatural killer,...</td>\n",
              "      <td>A trio of witches are trained to become powerf...</td>\n",
              "    </tr>\n",
              "    <tr>\n",
              "      <th>6539</th>\n",
              "      <td>tt9910948</td>\n",
              "      <td>[pokemon]</td>\n",
              "      <td>A story of young adults who are on a quest to ...</td>\n",
              "    </tr>\n",
              "    <tr>\n",
              "      <th>6540</th>\n",
              "      <td>tt9913602</td>\n",
              "      <td>[snow]</td>\n",
              "      <td>A thick layer of fresh snow provides loads of ...</td>\n",
              "    </tr>\n",
              "  </tbody>\n",
              "</table>\n",
              "<p>6541 rows × 3 columns</p>\n",
              "</div>\n",
              "      <button class=\"colab-df-convert\" onclick=\"convertToInteractive('df-8bc85b3a-d925-469e-b706-f9dde46646dd')\"\n",
              "              title=\"Convert this dataframe to an interactive table.\"\n",
              "              style=\"display:none;\">\n",
              "        \n",
              "  <svg xmlns=\"http://www.w3.org/2000/svg\" height=\"24px\"viewBox=\"0 0 24 24\"\n",
              "       width=\"24px\">\n",
              "    <path d=\"M0 0h24v24H0V0z\" fill=\"none\"/>\n",
              "    <path d=\"M18.56 5.44l.94 2.06.94-2.06 2.06-.94-2.06-.94-.94-2.06-.94 2.06-2.06.94zm-11 1L8.5 8.5l.94-2.06 2.06-.94-2.06-.94L8.5 2.5l-.94 2.06-2.06.94zm10 10l.94 2.06.94-2.06 2.06-.94-2.06-.94-.94-2.06-.94 2.06-2.06.94z\"/><path d=\"M17.41 7.96l-1.37-1.37c-.4-.4-.92-.59-1.43-.59-.52 0-1.04.2-1.43.59L10.3 9.45l-7.72 7.72c-.78.78-.78 2.05 0 2.83L4 21.41c.39.39.9.59 1.41.59.51 0 1.02-.2 1.41-.59l7.78-7.78 2.81-2.81c.8-.78.8-2.07 0-2.86zM5.41 20L4 18.59l7.72-7.72 1.47 1.35L5.41 20z\"/>\n",
              "  </svg>\n",
              "      </button>\n",
              "      \n",
              "  <style>\n",
              "    .colab-df-container {\n",
              "      display:flex;\n",
              "      flex-wrap:wrap;\n",
              "      gap: 12px;\n",
              "    }\n",
              "\n",
              "    .colab-df-convert {\n",
              "      background-color: #E8F0FE;\n",
              "      border: none;\n",
              "      border-radius: 50%;\n",
              "      cursor: pointer;\n",
              "      display: none;\n",
              "      fill: #1967D2;\n",
              "      height: 32px;\n",
              "      padding: 0 0 0 0;\n",
              "      width: 32px;\n",
              "    }\n",
              "\n",
              "    .colab-df-convert:hover {\n",
              "      background-color: #E2EBFA;\n",
              "      box-shadow: 0px 1px 2px rgba(60, 64, 67, 0.3), 0px 1px 3px 1px rgba(60, 64, 67, 0.15);\n",
              "      fill: #174EA6;\n",
              "    }\n",
              "\n",
              "    [theme=dark] .colab-df-convert {\n",
              "      background-color: #3B4455;\n",
              "      fill: #D2E3FC;\n",
              "    }\n",
              "\n",
              "    [theme=dark] .colab-df-convert:hover {\n",
              "      background-color: #434B5C;\n",
              "      box-shadow: 0px 1px 3px 1px rgba(0, 0, 0, 0.15);\n",
              "      filter: drop-shadow(0px 1px 2px rgba(0, 0, 0, 0.3));\n",
              "      fill: #FFFFFF;\n",
              "    }\n",
              "  </style>\n",
              "\n",
              "      <script>\n",
              "        const buttonEl =\n",
              "          document.querySelector('#df-8bc85b3a-d925-469e-b706-f9dde46646dd button.colab-df-convert');\n",
              "        buttonEl.style.display =\n",
              "          google.colab.kernel.accessAllowed ? 'block' : 'none';\n",
              "\n",
              "        async function convertToInteractive(key) {\n",
              "          const element = document.querySelector('#df-8bc85b3a-d925-469e-b706-f9dde46646dd');\n",
              "          const dataTable =\n",
              "            await google.colab.kernel.invokeFunction('convertToInteractive',\n",
              "                                                     [key], {});\n",
              "          if (!dataTable) return;\n",
              "\n",
              "          const docLinkHtml = 'Like what you see? Visit the ' +\n",
              "            '<a target=\"_blank\" href=https://colab.research.google.com/notebooks/data_table.ipynb>data table notebook</a>'\n",
              "            + ' to learn more about interactive tables.';\n",
              "          element.innerHTML = '';\n",
              "          dataTable['output_type'] = 'display_data';\n",
              "          await google.colab.output.renderOutput(dataTable, element);\n",
              "          const docLink = document.createElement('div');\n",
              "          docLink.innerHTML = docLinkHtml;\n",
              "          element.appendChild(docLink);\n",
              "        }\n",
              "      </script>\n",
              "    </div>\n",
              "  </div>\n",
              "  "
            ]
          },
          "metadata": {},
          "execution_count": 7
        }
      ],
      "source": [
        "plot_df"
      ]
    },
    {
      "cell_type": "code",
      "execution_count": null,
      "metadata": {
        "id": "15ijQe3-Fmbz"
      },
      "outputs": [],
      "source": [
        "import re\n",
        "\n",
        "def clean_text(it):\n",
        "    it = it.replace('*', '')\n",
        "    it = it.replace('^', '')\n",
        "    it = it.replace('~', '')\n",
        "    it = it.replace('@', '')\n",
        "    it = it.replace('Synopsis', '')\n",
        "    it = it.replace('SYNOPSIS', '')\n",
        "    it = it.replace('movie', 'story')\n",
        "    it = it.replace('film', 'story')\n",
        "    it = it.replace('episode', 'story')\n",
        "    it = it.replace('Season', 'Arc')\n",
        "    it = it.replace('SEASON', 'Arc')\n",
        "    it = re.sub(r'\\([^()]*\\)', '', it)\n",
        "\n",
        "    it = ' '.join(it.split()[:300])\n",
        "\n",
        "    return it"
      ]
    },
    {
      "cell_type": "code",
      "execution_count": null,
      "metadata": {
        "id": "ooxkkMjBDxpX"
      },
      "outputs": [],
      "source": [
        "prefix_format = \"~^{}^~@{}<|endoftext|>\\n\""
      ]
    },
    {
      "cell_type": "code",
      "execution_count": null,
      "metadata": {
        "id": "7V4ktT1GD_bD"
      },
      "outputs": [],
      "source": [
        "for index, row in plot_df.iterrows():\n",
        "    with open('/content/drive/MyDrive/AI/plot2tag_encoded_6500.csv', 'a', encoding='utf-8') as plot2tag_file:\n",
        "        tag_prefix = '^'.join(row['tags'])\n",
        "        encoded_title = prefix_format.format(tag_prefix,  clean_text(row['plot']))\n",
        "        plot2tag_file.write(encoded_title)"
      ]
    }
  ],
  "metadata": {
    "colab": {
      "provenance": []
    },
    "kernelspec": {
      "display_name": "Python 3",
      "name": "python3"
    },
    "language_info": {
      "name": "python"
    }
  },
  "nbformat": 4,
  "nbformat_minor": 0
}